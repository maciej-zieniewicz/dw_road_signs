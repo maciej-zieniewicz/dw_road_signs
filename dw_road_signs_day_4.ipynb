{
  "nbformat": 4,
  "nbformat_minor": 0,
  "metadata": {
    "colab": {
      "name": "dw_road_signs_day_4.ipynb",
      "provenance": [],
      "collapsed_sections": [],
      "mount_file_id": "1VnEBh8Kc-ZDH4AyEDtJLSMV-bhfxfOOT",
      "authorship_tag": "ABX9TyOSifaLsLkGtcm+930wwSIy"
    },
    "kernelspec": {
      "name": "python3",
      "display_name": "Python 3"
    },
    "accelerator": "GPU"
  },
  "cells": [
    {
      "cell_type": "code",
      "metadata": {
        "id": "Ax2VvTtpQltV",
        "colab_type": "code",
        "outputId": "5572421e-390b-4403-9cbe-b3213669e5f1",
        "colab": {
          "base_uri": "https://localhost:8080/",
          "height": 50
        }
      },
      "source": [
        "import pandas as pd\n",
        "import numpy as np\n",
        "\n",
        "import matplotlib.pyplot as plt\n",
        "from skimage import color, exposure\n",
        "\n",
        "from sklearn.metrics import accuracy_score\n",
        "\n",
        "import os\n",
        "import datetime\n",
        "\n",
        "import tensorflow as tf\n",
        "from tensorflow.keras.models import Sequential\n",
        "from tensorflow.keras.layers import Conv2D, MaxPool2D, Dense, Flatten, Dropout\n",
        "from tensorflow.keras.utils import to_categorical\n",
        "\n",
        "%load_ext tensorboard"
      ],
      "execution_count": 37,
      "outputs": [
        {
          "output_type": "stream",
          "text": [
            "The tensorboard extension is already loaded. To reload it, use:\n",
            "  %reload_ext tensorboard\n"
          ],
          "name": "stdout"
        }
      ]
    },
    {
      "cell_type": "code",
      "metadata": {
        "id": "jT8rBYaL6noW",
        "colab_type": "code",
        "colab": {
          "base_uri": "https://localhost:8080/",
          "height": 34
        },
        "outputId": "8209c1ac-a0ba-446c-9a45-4e10b0ba9c81"
      },
      "source": [
        "cd '/content/drive/My Drive/Colab Notebooks/dw_matrix/matrix_three/dw_road_signs'"
      ],
      "execution_count": 1,
      "outputs": [
        {
          "output_type": "stream",
          "text": [
            "/content/drive/My Drive/Colab Notebooks/dw_matrix/matrix_three/dw_road_signs\n"
          ],
          "name": "stdout"
        }
      ]
    },
    {
      "cell_type": "code",
      "metadata": {
        "id": "ekk5eEETXjww",
        "colab_type": "code",
        "colab": {}
      },
      "source": [
        "train = pd.read_pickle('data/train.p')\n",
        "test = pd.read_pickle('data/test.p')\n",
        "signs = pd.read_csv('data/signnames.csv')"
      ],
      "execution_count": 0,
      "outputs": []
    },
    {
      "cell_type": "code",
      "metadata": {
        "id": "0nuEMwSCYWUF",
        "colab_type": "code",
        "outputId": "6d767f2f-4a33-41af-f803-b97cc6c73c23",
        "colab": {
          "base_uri": "https://localhost:8080/",
          "height": 34
        }
      },
      "source": [
        "x_train, y_train, x_test, y_test = train['features'], train['labels'], test['features'], test['labels']\n",
        "\n",
        "x_train.shape, y_train.shape, x_test.shape, y_test.shape"
      ],
      "execution_count": 4,
      "outputs": [
        {
          "output_type": "execute_result",
          "data": {
            "text/plain": [
              "((34799, 32, 32, 3), (34799,), (4410, 32, 32, 3), (4410,))"
            ]
          },
          "metadata": {
            "tags": []
          },
          "execution_count": 4
        }
      ]
    },
    {
      "cell_type": "code",
      "metadata": {
        "id": "PkFkeuHFYdXD",
        "colab_type": "code",
        "outputId": "322d0d77-1bd8-497a-d194-13a1d97d161e",
        "colab": {
          "base_uri": "https://localhost:8080/",
          "height": 281
        }
      },
      "source": [
        "plt.imshow(x_train[0])\n",
        "plt.title(y_train[0]);"
      ],
      "execution_count": 5,
      "outputs": [
        {
          "output_type": "display_data",
          "data": {
            "image/png": "[encoded data removed]",
            "text/plain": [
              "<Figure size 432x288 with 1 Axes>"
            ]
          },
          "metadata": {
            "tags": []
          }
        }
      ]
    },
    {
      "cell_type": "code",
      "metadata": {
        "id": "sydYcCsRYsTT",
        "colab_type": "code",
        "outputId": "6f7c5f35-7548-421c-cdbb-643aa8257962",
        "colab": {
          "base_uri": "https://localhost:8080/",
          "height": 195
        }
      },
      "source": [
        "signs.head()"
      ],
      "execution_count": 6,
      "outputs": [
        {
          "output_type": "execute_result",
          "data": {
            "text/html": [
              "<div>\n",
              "<style scoped>\n",
              "    .dataframe tbody tr th:only-of-type {\n",
              "        vertical-align: middle;\n",
              "    }\n",
              "\n",
              "    .dataframe tbody tr th {\n",
              "        vertical-align: top;\n",
              "    }\n",
              "\n",
              "    .dataframe thead th {\n",
              "        text-align: right;\n",
              "    }\n",
              "</style>\n",
              "<table border=\"1\" class=\"dataframe\">\n",
              "  <thead>\n",
              "    <tr style=\"text-align: right;\">\n",
              "      <th></th>\n",
              "      <th>a</th>\n",
              "      <th>b</th>\n",
              "    </tr>\n",
              "  </thead>\n",
              "  <tbody>\n",
              "    <tr>\n",
              "      <th>0</th>\n",
              "      <td>0</td>\n",
              "      <td>Speed limit (20km/h)</td>\n",
              "    </tr>\n",
              "    <tr>\n",
              "      <th>1</th>\n",
              "      <td>1</td>\n",
              "      <td>Speed limit (30km/h)</td>\n",
              "    </tr>\n",
              "    <tr>\n",
              "      <th>2</th>\n",
              "      <td>2</td>\n",
              "      <td>Speed limit (50km/h)</td>\n",
              "    </tr>\n",
              "    <tr>\n",
              "      <th>3</th>\n",
              "      <td>3</td>\n",
              "      <td>Speed limit (60km/h)</td>\n",
              "    </tr>\n",
              "    <tr>\n",
              "      <th>4</th>\n",
              "      <td>4</td>\n",
              "      <td>Speed limit (70km/h)</td>\n",
              "    </tr>\n",
              "  </tbody>\n",
              "</table>\n",
              "</div>"
            ],
            "text/plain": [
              "   a                     b\n",
              "0  0  Speed limit (20km/h)\n",
              "1  1  Speed limit (30km/h)\n",
              "2  2  Speed limit (50km/h)\n",
              "3  3  Speed limit (60km/h)\n",
              "4  4  Speed limit (70km/h)"
            ]
          },
          "metadata": {
            "tags": []
          },
          "execution_count": 6
        }
      ]
    },
    {
      "cell_type": "code",
      "metadata": {
        "id": "gDfNb0yqakXc",
        "colab_type": "code",
        "outputId": "f42adf86-635f-436e-8d88-114262b3551b",
        "colab": {
          "base_uri": "https://localhost:8080/",
          "height": 34
        }
      },
      "source": [
        "len(np.unique(y_train))"
      ],
      "execution_count": 7,
      "outputs": [
        {
          "output_type": "execute_result",
          "data": {
            "text/plain": [
              "43"
            ]
          },
          "metadata": {
            "tags": []
          },
          "execution_count": 7
        }
      ]
    },
    {
      "cell_type": "code",
      "metadata": {
        "id": "cq8oy-Rdanpa",
        "colab_type": "code",
        "outputId": "6e4093fd-ee9e-4e21-c936-78e80e1d6084",
        "colab": {
          "base_uri": "https://localhost:8080/",
          "height": 67
        }
      },
      "source": [
        "to_categorical(y_train)[0]"
      ],
      "execution_count": 8,
      "outputs": [
        {
          "output_type": "execute_result",
          "data": {
            "text/plain": [
              "array([0., 0., 0., 0., 0., 0., 0., 0., 0., 0., 0., 0., 0., 0., 0., 0., 0.,\n",
              "       0., 0., 0., 0., 0., 0., 0., 0., 0., 0., 0., 0., 0., 0., 0., 0., 0.,\n",
              "       0., 0., 0., 0., 0., 0., 0., 1., 0.], dtype=float32)"
            ]
          },
          "metadata": {
            "tags": []
          },
          "execution_count": 8
        }
      ]
    },
    {
      "cell_type": "code",
      "metadata": {
        "id": "6OmGPJQUa9pq",
        "colab_type": "code",
        "colab": {}
      },
      "source": [
        "if y_train.ndim == 1: y_train = to_categorical(y_train)\n",
        "if y_test.ndim == 1: y_test = to_categorical(y_test)"
      ],
      "execution_count": 0,
      "outputs": []
    },
    {
      "cell_type": "code",
      "metadata": {
        "id": "4WzF_5LdbFxa",
        "colab_type": "code",
        "outputId": "d0d13e5b-00d1-47c8-fb00-1c62c6d6e822",
        "colab": {
          "base_uri": "https://localhost:8080/",
          "height": 34
        }
      },
      "source": [
        "y_train.shape, y_test.shape"
      ],
      "execution_count": 10,
      "outputs": [
        {
          "output_type": "execute_result",
          "data": {
            "text/plain": [
              "((34799, 43), (4410, 43))"
            ]
          },
          "metadata": {
            "tags": []
          },
          "execution_count": 10
        }
      ]
    },
    {
      "cell_type": "code",
      "metadata": {
        "id": "AvIC_l9VxH2l",
        "colab_type": "code",
        "colab": {}
      },
      "source": [
        "input_shape = x_train.shape[1:]\n",
        "num_classes = y_train.shape[1]"
      ],
      "execution_count": 0,
      "outputs": []
    },
    {
      "cell_type": "code",
      "metadata": {
        "id": "c8ssm9B_bWl7",
        "colab_type": "code",
        "outputId": "660a3199-1d51-4393-9a00-d8de6cb8c792",
        "colab": {
          "base_uri": "https://localhost:8080/",
          "height": 50
        }
      },
      "source": [
        "model = Sequential([\n",
        "                    Conv2D(filters=64, kernel_size=(3,3), activation='relu', input_shape= input_shape ),\n",
        "                    Flatten(),\n",
        "                    Dense(num_classes, activation='softmax')\n",
        "                    ])\n",
        "# model.summary()\n",
        "\n",
        "model.compile(loss='categorical_crossentropy', optimizer='Adam', metrics=['accuracy'])\n",
        "model.fit(x_train, y_train)"
      ],
      "execution_count": 12,
      "outputs": [
        {
          "output_type": "stream",
          "text": [
            "1088/1088 [==============================] - 4s 3ms/step - loss: 11.2598 - accuracy: 0.7964\n"
          ],
          "name": "stdout"
        },
        {
          "output_type": "execute_result",
          "data": {
            "text/plain": [
              "<tensorflow.python.keras.callbacks.History at 0x7fde50073358>"
            ]
          },
          "metadata": {
            "tags": []
          },
          "execution_count": 12
        }
      ]
    },
    {
      "cell_type": "code",
      "metadata": {
        "id": "NEB9KwNj0FEb",
        "colab_type": "code",
        "colab": {}
      },
      "source": [
        "def get_cnn_model(input_shape, num_classes):\n",
        "  return Sequential([\n",
        "                    Conv2D(filters=64, kernel_size=(3,3), activation='relu', input_shape= input_shape ),\n",
        "                    Flatten(),\n",
        "                    Dense(num_classes, activation='softmax')\n",
        "                    ])\n",
        "# model.summary()\n",
        "def train_model(model, x_train, y_train, params_fit={}):\n",
        "  model.compile(loss='categorical_crossentropy', optimizer='Adam', metrics=['accuracy'])\n",
        "\n",
        "  log_dir = os.path.join('logs', datetime.datetime.now().strftime(\"%Y%m%d-%H%M%S\"))\n",
        "  tensorboard_callback = tf.keras.callbacks.TensorBoard(log_dir, histogram_freq=1)\n",
        "\n",
        "  model.fit(\n",
        "      x_train, \n",
        "      y_train,\n",
        "      batch_size = params_fit.get('batch_size', 128),\n",
        "      epochs= params_fit.get('epochs', 5),\n",
        "      verbose = params_fit.get('verbose', 1),\n",
        "      validation_data = params_fit.get('validation_data', (x_train, y_train)),\n",
        "      callbacks = [tensorboard_callback]\n",
        "      )\n",
        "  \n",
        "  return model"
      ],
      "execution_count": 0,
      "outputs": []
    },
    {
      "cell_type": "code",
      "metadata": {
        "id": "dPH8mFgw0dRJ",
        "colab_type": "code",
        "outputId": "ec19243f-2d56-4ceb-d782-d4037e6885d1",
        "colab": {
          "base_uri": "https://localhost:8080/",
          "height": 185
        }
      },
      "source": [
        "model = get_cnn_model(input_shape, num_classes)\n",
        "model_trained = train_model(model, x_train, y_train)"
      ],
      "execution_count": 16,
      "outputs": [
        {
          "output_type": "stream",
          "text": [
            "Epoch 1/5\n",
            "272/272 [==============================] - 3s 11ms/step - loss: 31.8768 - accuracy: 0.7097 - val_loss: 0.2405 - val_accuracy: 0.9445\n",
            "Epoch 2/5\n",
            "272/272 [==============================] - 3s 11ms/step - loss: 0.2294 - accuracy: 0.9457 - val_loss: 0.1511 - val_accuracy: 0.9678\n",
            "Epoch 3/5\n",
            "272/272 [==============================] - 3s 11ms/step - loss: 0.1570 - accuracy: 0.9635 - val_loss: 0.1180 - val_accuracy: 0.9694\n",
            "Epoch 4/5\n",
            "272/272 [==============================] - 3s 11ms/step - loss: 0.1352 - accuracy: 0.9705 - val_loss: 0.1362 - val_accuracy: 0.9709\n",
            "Epoch 5/5\n",
            "272/272 [==============================] - 3s 11ms/step - loss: 0.1009 - accuracy: 0.9761 - val_loss: 0.0776 - val_accuracy: 0.9831\n"
          ],
          "name": "stdout"
        }
      ]
    },
    {
      "cell_type": "code",
      "metadata": {
        "id": "fSBOjjjQ7MSF",
        "colab_type": "code",
        "colab": {
          "base_uri": "https://localhost:8080/",
          "height": 235
        },
        "outputId": "c6abcade-797d-4ce2-8225-ccff043b4309"
      },
      "source": [
        "y_pred_prob = model_trained.predict(x_test)\n",
        "y_pred_prob"
      ],
      "execution_count": 22,
      "outputs": [
        {
          "output_type": "execute_result",
          "data": {
            "text/plain": [
              "array([[1.5226383e-06, 9.0117902e-03, 3.4767114e-02, ..., 1.5835786e-08,\n",
              "        6.8295840e-04, 2.5152015e-03],\n",
              "       [3.3479597e-07, 2.4367892e-03, 8.3053917e-02, ..., 9.4946550e-08,\n",
              "        1.0106474e-04, 1.8082563e-03],\n",
              "       [4.0154220e-05, 2.4478078e-02, 7.9206809e-02, ..., 1.3524605e-07,\n",
              "        4.5486642e-03, 4.8231799e-03],\n",
              "       ...,\n",
              "       [4.4374363e-03, 3.1116692e-02, 3.4428407e-03, ..., 6.0050847e-04,\n",
              "        1.3158208e-02, 1.5955664e-02],\n",
              "       [4.4409753e-05, 1.2182430e-02, 6.2708179e-03, ..., 4.8669982e-03,\n",
              "        1.2062473e-02, 4.9207169e-03],\n",
              "       [1.0633386e-04, 1.2019014e-02, 1.6523559e-02, ..., 1.3997819e-03,\n",
              "        5.4760394e-03, 4.6607563e-03]], dtype=float32)"
            ]
          },
          "metadata": {
            "tags": []
          },
          "execution_count": 22
        }
      ]
    },
    {
      "cell_type": "code",
      "metadata": {
        "id": "ig2mFE1y7c6a",
        "colab_type": "code",
        "colab": {
          "base_uri": "https://localhost:8080/",
          "height": 283
        },
        "outputId": "2a131a14-7a88-468c-bd0c-ac551474a708"
      },
      "source": [
        "plt.imshow(x_test[400])"
      ],
      "execution_count": 23,
      "outputs": [
        {
          "output_type": "execute_result",
          "data": {
            "text/plain": [
              "<matplotlib.image.AxesImage at 0x7fde200805f8>"
            ]
          },
          "metadata": {
            "tags": []
          },
          "execution_count": 23
        },
        {
          "output_type": "display_data",
          "data": {
            "image/png": "[encoded data removed]",
            "text/plain": [
              "<Figure size 432x288 with 1 Axes>"
            ]
          },
          "metadata": {
            "tags": []
          }
        }
      ]
    },
    {
      "cell_type": "code",
      "metadata": {
        "id": "Oqy1DRjg7dJ4",
        "colab_type": "code",
        "colab": {}
      },
      "source": [
        "df = pd.read_csv('data/signnames.csv')\n",
        "labels_dict = df.to_dict()['b']"
      ],
      "execution_count": 0,
      "outputs": []
    },
    {
      "cell_type": "code",
      "metadata": {
        "id": "BMy4r6wU79a0",
        "colab_type": "code",
        "colab": {
          "base_uri": "https://localhost:8080/",
          "height": 34
        },
        "outputId": "e500ee11-4769-4a1c-ada6-8df6b76bff0e"
      },
      "source": [
        "labels_dict[np.argmax(y_pred_prob[400])]"
      ],
      "execution_count": 25,
      "outputs": [
        {
          "output_type": "execute_result",
          "data": {
            "text/plain": [
              "'Speed limit (30km/h)'"
            ]
          },
          "metadata": {
            "tags": []
          },
          "execution_count": 25
        }
      ]
    },
    {
      "cell_type": "code",
      "metadata": {
        "id": "bH-nm71j79hr",
        "colab_type": "code",
        "colab": {
          "base_uri": "https://localhost:8080/",
          "height": 1000
        },
        "outputId": "66aec5fd-0a8b-47af-d16f-ff2b0aaee47a"
      },
      "source": [
        "labels_dict_list =labels_dict.values()\n",
        "plt.figure(figsize=(20,20))\n",
        "plt.bar(range(43), y_pred_prob[400]);"
      ],
      "execution_count": 36,
      "outputs": [
        {
          "output_type": "display_data",
          "data": {
            "image/png": "[encoded data removed]",
            "text/plain": [
              "<Figure size 1440x1440 with 1 Axes>"
            ]
          },
          "metadata": {
            "tags": []
          }
        }
      ]
    },
    {
      "cell_type": "code",
      "metadata": {
        "id": "tqDGc4x-PNcY",
        "colab_type": "code",
        "colab": {}
      },
      "source": [
        "def predict(model_trained, x_test, y_test, scoring=accuracy_score):\n",
        "\n",
        "  y_test_norm = np.argmax(y_test, axis =1)\n",
        "\n",
        "  y_pred_prob = model_trained.predict(x_test)\n",
        "  y_pred = np.argmax(y_pred_prob, axis = 1)\n",
        "  return scoring(y_test_norm, y_pred)"
      ],
      "execution_count": 0,
      "outputs": []
    },
    {
      "cell_type": "code",
      "metadata": {
        "id": "FP4J421lPNfQ",
        "colab_type": "code",
        "colab": {
          "base_uri": "https://localhost:8080/",
          "height": 34
        },
        "outputId": "ed94f59d-a21c-4fb1-d702-0683f906a2b3"
      },
      "source": [
        "predict(model_trained, x_test, y_test)"
      ],
      "execution_count": 40,
      "outputs": [
        {
          "output_type": "execute_result",
          "data": {
            "text/plain": [
              "0.8095238095238095"
            ]
          },
          "metadata": {
            "tags": []
          },
          "execution_count": 40
        }
      ]
    },
    {
      "cell_type": "code",
      "metadata": {
        "id": "xk80VYdvPNkM",
        "colab_type": "code",
        "colab": {
          "base_uri": "https://localhost:8080/",
          "height": 202
        },
        "outputId": "f0e7bb3e-1878-4065-a5f6-d9a196aebb95"
      },
      "source": [
        "def get_cnn_model(input_shape, num_classes):\n",
        "  return Sequential([\n",
        "                    Conv2D(filters=32, kernel_size=(3,3), activation='relu', input_shape= input_shape ),\n",
        "                    MaxPool2D(),\n",
        "                    Dropout(0.3),\n",
        "\n",
        "                    Conv2D(filters=64, kernel_size=(3,3), activation='relu'),\n",
        "                    MaxPool2D(),\n",
        "                    Dropout(0.3),                     \n",
        "\n",
        "                    Flatten(),\n",
        "\n",
        "                    Dense(1024, activation='relu'),\n",
        "                    Dropout(0.3),\n",
        "\n",
        "                    Dense(num_classes, activation='softmax')\n",
        "\n",
        "                    ])\n",
        "\n",
        "def train_and_predict(model):\n",
        "  model_trained = train_model(model, x_train, y_train)\n",
        "  return predict(model_trained, x_test, y_test)\n",
        "\n",
        "train_and_predict(get_cnn_model(input_shape, num_classes))"
      ],
      "execution_count": 43,
      "outputs": [
        {
          "output_type": "stream",
          "text": [
            "Epoch 1/5\n",
            "272/272 [==============================] - 3s 11ms/step - loss: 4.7942 - accuracy: 0.3879 - val_loss: 0.8172 - val_accuracy: 0.7894\n",
            "Epoch 2/5\n",
            "272/272 [==============================] - 3s 10ms/step - loss: 0.9087 - accuracy: 0.7347 - val_loss: 0.3269 - val_accuracy: 0.9279\n",
            "Epoch 3/5\n",
            "272/272 [==============================] - 3s 11ms/step - loss: 0.5042 - accuracy: 0.8516 - val_loss: 0.1545 - val_accuracy: 0.9689\n",
            "Epoch 4/5\n",
            "272/272 [==============================] - 3s 10ms/step - loss: 0.3460 - accuracy: 0.8965 - val_loss: 0.0790 - val_accuracy: 0.9827\n",
            "Epoch 5/5\n",
            "272/272 [==============================] - 3s 10ms/step - loss: 0.2610 - accuracy: 0.9232 - val_loss: 0.0568 - val_accuracy: 0.9897\n"
          ],
          "name": "stdout"
        },
        {
          "output_type": "execute_result",
          "data": {
            "text/plain": [
              "0.936734693877551"
            ]
          },
          "metadata": {
            "tags": []
          },
          "execution_count": 43
        }
      ]
    },
    {
      "cell_type": "code",
      "metadata": {
        "id": "nt0U54nePNsh",
        "colab_type": "code",
        "colab": {
          "base_uri": "https://localhost:8080/",
          "height": 202
        },
        "outputId": "5f868c7a-4201-4993-935d-49c303b65804"
      },
      "source": [
        "def get_cnn_model_v3(input_shape, num_classes):\n",
        "  return Sequential([\n",
        "                    Conv2D(filters=32, kernel_size=(3,3), activation='relu', input_shape= input_shape ),\n",
        "                    Conv2D(filters=32, kernel_size=(3,3), activation='relu'),\n",
        "                    MaxPool2D(),\n",
        "                    Dropout(0.3),\n",
        "\n",
        "                    Conv2D(filters=64, kernel_size=(3,3), activation='relu'),\n",
        "                    Conv2D(filters=64, kernel_size=(3,3), activation='relu'),\n",
        "                    MaxPool2D(),\n",
        "                    Dropout(0.3),                     \n",
        "\n",
        "                    Flatten(),\n",
        "\n",
        "                    Dense(1024, activation='relu'),\n",
        "                    Dropout(0.3),\n",
        "\n",
        "                    Dense(num_classes, activation='softmax')\n",
        "\n",
        "                    ])\n",
        "\n",
        "def train_and_predict(model):\n",
        "  model_trained = train_model(model, x_train, y_train)\n",
        "  return predict(model_trained, x_test, y_test)\n",
        "\n",
        "train_and_predict(get_cnn_model_v3(input_shape, num_classes))"
      ],
      "execution_count": 44,
      "outputs": [
        {
          "output_type": "stream",
          "text": [
            "Epoch 1/5\n",
            "272/272 [==============================] - 4s 16ms/step - loss: 2.0490 - accuracy: 0.5634 - val_loss: 0.3563 - val_accuracy: 0.9025\n",
            "Epoch 2/5\n",
            "272/272 [==============================] - 4s 15ms/step - loss: 0.4526 - accuracy: 0.8681 - val_loss: 0.1084 - val_accuracy: 0.9710\n",
            "Epoch 3/5\n",
            "272/272 [==============================] - 4s 15ms/step - loss: 0.2485 - accuracy: 0.9263 - val_loss: 0.0507 - val_accuracy: 0.9858\n",
            "Epoch 4/5\n",
            "272/272 [==============================] - 4s 15ms/step - loss: 0.1648 - accuracy: 0.9509 - val_loss: 0.0455 - val_accuracy: 0.9883\n",
            "Epoch 5/5\n",
            "272/272 [==============================] - 4s 15ms/step - loss: 0.1385 - accuracy: 0.9589 - val_loss: 0.0234 - val_accuracy: 0.9940\n"
          ],
          "name": "stdout"
        },
        {
          "output_type": "execute_result",
          "data": {
            "text/plain": [
              "0.9709750566893424"
            ]
          },
          "metadata": {
            "tags": []
          },
          "execution_count": 44
        }
      ]
    },
    {
      "cell_type": "code",
      "metadata": {
        "id": "wo4Qo-8MPNiZ",
        "colab_type": "code",
        "colab": {
          "base_uri": "https://localhost:8080/",
          "height": 202
        },
        "outputId": "6defc046-5a24-4885-d3cc-bce4ebf3b841"
      },
      "source": [
        "def get_cnn_model_v4(input_shape, num_classes):\n",
        "  return Sequential([\n",
        "                    Conv2D(filters=32, kernel_size=(3,3), activation='relu', input_shape= input_shape ),\n",
        "                    Conv2D(filters=32, kernel_size=(3,3), activation='relu', padding='same'),\n",
        "                    MaxPool2D(),\n",
        "                    Dropout(0.3),\n",
        "\n",
        "                    Conv2D(filters=64, kernel_size=(3,3), activation='relu', padding='same'),\n",
        "                    Conv2D(filters=64, kernel_size=(3,3), activation='relu'),\n",
        "                    MaxPool2D(),\n",
        "                    Dropout(0.3),      \n",
        "\n",
        "                    Conv2D(filters=64, kernel_size=(3,3), activation='relu', padding='same'),\n",
        "                    Conv2D(filters=64, kernel_size=(3,3), activation='relu'),\n",
        "                    MaxPool2D(),\n",
        "                    Dropout(0.3),                \n",
        "\n",
        "                    Flatten(),\n",
        "\n",
        "                    Dense(1024, activation='relu'),\n",
        "                    Dropout(0.3),\n",
        "\n",
        "                    Dense(num_classes, activation='softmax')\n",
        "\n",
        "                    ])\n",
        "\n",
        "def train_and_predict(model):\n",
        "  model_trained = train_model(model, x_train, y_train)\n",
        "  return predict(model_trained, x_test, y_test)\n",
        "\n",
        "train_and_predict(get_cnn_model_v4(input_shape, num_classes))"
      ],
      "execution_count": 48,
      "outputs": [
        {
          "output_type": "stream",
          "text": [
            "Epoch 1/5\n",
            "272/272 [==============================] - 5s 19ms/step - loss: 2.6309 - accuracy: 0.2989 - val_loss: 0.9773 - val_accuracy: 0.7180\n",
            "Epoch 2/5\n",
            "272/272 [==============================] - 5s 17ms/step - loss: 0.7828 - accuracy: 0.7587 - val_loss: 0.1935 - val_accuracy: 0.9466\n",
            "Epoch 3/5\n",
            "272/272 [==============================] - 5s 17ms/step - loss: 0.3336 - accuracy: 0.9011 - val_loss: 0.1011 - val_accuracy: 0.9714\n",
            "Epoch 4/5\n",
            "272/272 [==============================] - 5s 17ms/step - loss: 0.2171 - accuracy: 0.9370 - val_loss: 0.0439 - val_accuracy: 0.9872\n",
            "Epoch 5/5\n",
            "272/272 [==============================] - 5s 17ms/step - loss: 0.1644 - accuracy: 0.9516 - val_loss: 0.0296 - val_accuracy: 0.9920\n"
          ],
          "name": "stdout"
        },
        {
          "output_type": "execute_result",
          "data": {
            "text/plain": [
              "0.9700680272108844"
            ]
          },
          "metadata": {
            "tags": []
          },
          "execution_count": 48
        }
      ]
    },
    {
      "cell_type": "code",
      "metadata": {
        "id": "8IP9hdUDictR",
        "colab_type": "code",
        "colab": {
          "base_uri": "https://localhost:8080/",
          "height": 202
        },
        "outputId": "fa8ed24a-bb98-4b95-90ff-420e8cb5968f"
      },
      "source": [
        "def get_cnn_model_v5(input_shape, num_classes):\n",
        "  return Sequential([\n",
        "                    Conv2D(filters=32, kernel_size=(3,3), activation='relu', input_shape= input_shape ),\n",
        "                    Conv2D(filters=32, kernel_size=(3,3), activation='relu', padding='same'),\n",
        "                    MaxPool2D(),\n",
        "                    Dropout(0.3),\n",
        "\n",
        "                    Conv2D(filters=64, kernel_size=(3,3), activation='relu', padding='same'),\n",
        "                    Conv2D(filters=64, kernel_size=(3,3), activation='relu'),\n",
        "                    MaxPool2D(),\n",
        "                    Dropout(0.3),      \n",
        "\n",
        "                    Conv2D(filters=64, kernel_size=(3,3), activation='relu', padding='same'),\n",
        "                    Conv2D(filters=64, kernel_size=(3,3), activation='relu'),\n",
        "                    MaxPool2D(),\n",
        "                    Dropout(0.3),                \n",
        "\n",
        "                    Flatten(),\n",
        "\n",
        "                    Dense(1024, activation='relu'),\n",
        "                    Dropout(0.3),\n",
        "\n",
        "                    Dense(1024, activation='relu'),\n",
        "                    Dropout(0.3),\n",
        "\n",
        "                    Dense(num_classes, activation='softmax')\n",
        "\n",
        "                    ])\n",
        "\n",
        "def train_and_predict(model):\n",
        "  model_trained = train_model(model, x_train, y_train)\n",
        "  return predict(model_trained, x_test, y_test)\n",
        "\n",
        "train_and_predict(get_cnn_model_v5(input_shape, num_classes))"
      ],
      "execution_count": 53,
      "outputs": [
        {
          "output_type": "stream",
          "text": [
            "Epoch 1/5\n",
            "272/272 [==============================] - 5s 19ms/step - loss: 2.3202 - accuracy: 0.3507 - val_loss: 0.7936 - val_accuracy: 0.7614\n",
            "Epoch 2/5\n",
            "272/272 [==============================] - 5s 18ms/step - loss: 0.6687 - accuracy: 0.7901 - val_loss: 0.1784 - val_accuracy: 0.9488\n",
            "Epoch 3/5\n",
            "272/272 [==============================] - 5s 18ms/step - loss: 0.3320 - accuracy: 0.8972 - val_loss: 0.0741 - val_accuracy: 0.9788\n",
            "Epoch 4/5\n",
            "272/272 [==============================] - 5s 17ms/step - loss: 0.2235 - accuracy: 0.9315 - val_loss: 0.0392 - val_accuracy: 0.9890\n",
            "Epoch 5/5\n",
            "272/272 [==============================] - 5s 18ms/step - loss: 0.1768 - accuracy: 0.9483 - val_loss: 0.0384 - val_accuracy: 0.9891\n"
          ],
          "name": "stdout"
        },
        {
          "output_type": "execute_result",
          "data": {
            "text/plain": [
              "0.9612244897959183"
            ]
          },
          "metadata": {
            "tags": []
          },
          "execution_count": 53
        }
      ]
    },
    {
      "cell_type": "code",
      "metadata": {
        "id": "Lko2pQ20i7Ob",
        "colab_type": "code",
        "colab": {
          "base_uri": "https://localhost:8080/",
          "height": 34
        },
        "outputId": "3de821f3-7a56-4cee-8450-9704fb2e38f7"
      },
      "source": [
        "x_train_gray = color.rgb2gray(x_train)\n",
        "x_test_gray = color.rgb2gray(x_test)\n",
        "x_train_gray= x_train_gray.reshape(-1,32,32,1)\n",
        "x_test_gray= x_test_gray.reshape(-1,32,32,1)\n",
        "x_train_gray.shape"
      ],
      "execution_count": 57,
      "outputs": [
        {
          "output_type": "execute_result",
          "data": {
            "text/plain": [
              "(34799, 32, 32, 1)"
            ]
          },
          "metadata": {
            "tags": []
          },
          "execution_count": 57
        }
      ]
    },
    {
      "cell_type": "code",
      "metadata": {
        "id": "p25woJ4xi7Tb",
        "colab_type": "code",
        "colab": {
          "base_uri": "https://localhost:8080/",
          "height": 202
        },
        "outputId": "59555589-5053-4ebe-e9b9-0935d5be25f1"
      },
      "source": [
        "model = get_cnn_model_v5((32,32,1), num_classes)\n",
        "model_trained= train_model(model, x_train_gray, y_train)\n",
        "predict(model_trained, x_test_gray, y_test)"
      ],
      "execution_count": 58,
      "outputs": [
        {
          "output_type": "stream",
          "text": [
            "Epoch 1/5\n",
            "272/272 [==============================] - 5s 19ms/step - loss: 2.5577 - accuracy: 0.2810 - val_loss: 0.7490 - val_accuracy: 0.7500\n",
            "Epoch 2/5\n",
            "272/272 [==============================] - 5s 17ms/step - loss: 0.6272 - accuracy: 0.7956 - val_loss: 0.1727 - val_accuracy: 0.9472\n",
            "Epoch 3/5\n",
            "272/272 [==============================] - 5s 18ms/step - loss: 0.2825 - accuracy: 0.9099 - val_loss: 0.0699 - val_accuracy: 0.9805\n",
            "Epoch 4/5\n",
            "272/272 [==============================] - 5s 18ms/step - loss: 0.1814 - accuracy: 0.9425 - val_loss: 0.0391 - val_accuracy: 0.9885\n",
            "Epoch 5/5\n",
            "272/272 [==============================] - 5s 18ms/step - loss: 0.1329 - accuracy: 0.9576 - val_loss: 0.0309 - val_accuracy: 0.9905\n"
          ],
          "name": "stdout"
        },
        {
          "output_type": "execute_result",
          "data": {
            "text/plain": [
              "0.9662131519274376"
            ]
          },
          "metadata": {
            "tags": []
          },
          "execution_count": 58
        }
      ]
    },
    {
      "cell_type": "code",
      "metadata": {
        "id": "fuYhBHLwi7Wj",
        "colab_type": "code",
        "colab": {
          "base_uri": "https://localhost:8080/",
          "height": 248
        },
        "outputId": "0c77ff52-d308-4123-bc44-05da56a09ece"
      },
      "source": [
        "plt.imshow(color.rgb2gray(x_train[0]), cmap='gray');\n",
        "plt.axis('off');"
      ],
      "execution_count": 63,
      "outputs": [
        {
          "output_type": "display_data",
          "data": {
            "image/png": "[encoded data removed]",
            "text/plain": [
              "<Figure size 432x288 with 1 Axes>"
            ]
          },
          "metadata": {
            "tags": []
          }
        }
      ]
    }
  ]
}