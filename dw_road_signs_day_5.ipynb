{
  "nbformat": 4,
  "nbformat_minor": 0,
  "metadata": {
    "colab": {
      "name": "dw_road_signs_day_5.ipynb",
      "provenance": [],
      "mount_file_id": "1Tu6qBvNYVv4UiK9RsCY4S5UxXrWUwvi6",
      "authorship_tag": "ABX9TyNbAPhZfJn8xXGS8PjFqPGe"
    },
    "kernelspec": {
      "name": "python3",
      "display_name": "Python 3"
    },
    "accelerator": "GPU"
  },
  "cells": [
    {
      "cell_type": "code",
      "metadata": {
        "id": "F1CX1xWlwJOL",
        "colab_type": "code",
        "colab": {
          "base_uri": "https://localhost:8080/",
          "height": 168
        },
        "outputId": "183122fc-c8e5-4c4e-dfde-214dc1f52fb8"
      },
      "source": [
        "!pip install hyperopt"
      ],
      "execution_count": 1,
      "outputs": [
        {
          "output_type": "stream",
          "text": [
            "Requirement already satisfied: hyperopt in /usr/local/lib/python3.6/dist-packages (0.1.2)\n",
            "Requirement already satisfied: six in /usr/local/lib/python3.6/dist-packages (from hyperopt) (1.12.0)\n",
            "Requirement already satisfied: tqdm in /usr/local/lib/python3.6/dist-packages (from hyperopt) (4.38.0)\n",
            "Requirement already satisfied: networkx in /usr/local/lib/python3.6/dist-packages (from hyperopt) (2.4)\n",
            "Requirement already satisfied: numpy in /usr/local/lib/python3.6/dist-packages (from hyperopt) (1.18.2)\n",
            "Requirement already satisfied: pymongo in /usr/local/lib/python3.6/dist-packages (from hyperopt) (3.10.1)\n",
            "Requirement already satisfied: future in /usr/local/lib/python3.6/dist-packages (from hyperopt) (0.16.0)\n",
            "Requirement already satisfied: scipy in /usr/local/lib/python3.6/dist-packages (from hyperopt) (1.4.1)\n",
            "Requirement already satisfied: decorator>=4.3.0 in /usr/local/lib/python3.6/dist-packages (from networkx->hyperopt) (4.4.2)\n"
          ],
          "name": "stdout"
        }
      ]
    },
    {
      "cell_type": "code",
      "metadata": {
        "id": "bnSEvq8uxDHs",
        "colab_type": "code",
        "colab": {
          "base_uri": "https://localhost:8080/",
          "height": 50
        },
        "outputId": "4f63b5ae-bec5-45b4-99f4-a462009e13a6"
      },
      "source": [
        "import pandas as pd\n",
        "import numpy as np\n",
        "\n",
        "import matplotlib.pyplot as plt\n",
        "from skimage import color, exposure\n",
        "\n",
        "from sklearn.metrics import accuracy_score\n",
        "\n",
        "import os\n",
        "import datetime\n",
        "\n",
        "from hyperopt import hp, STATUS_OK, tpe, Trials, fmin\n",
        "\n",
        "import tensorflow as tf\n",
        "from tensorflow.keras.models import Sequential\n",
        "from tensorflow.keras.layers import Conv2D, MaxPool2D, Dense, Flatten, Dropout\n",
        "from tensorflow.keras.utils import to_categorical\n",
        "\n",
        "%load_ext tensorboard"
      ],
      "execution_count": 13,
      "outputs": [
        {
          "output_type": "stream",
          "text": [
            "The tensorboard extension is already loaded. To reload it, use:\n",
            "  %reload_ext tensorboard\n"
          ],
          "name": "stdout"
        }
      ]
    },
    {
      "cell_type": "code",
      "metadata": {
        "id": "M7HlKptfxV95",
        "colab_type": "code",
        "colab": {
          "base_uri": "https://localhost:8080/",
          "height": 34
        },
        "outputId": "fefa0f98-6ce5-451f-adbe-e43d4e715895"
      },
      "source": [
        "cd '/content/drive/My Drive/Colab Notebooks/dw_matrix/matrix_three/dw_road_signs'"
      ],
      "execution_count": 3,
      "outputs": [
        {
          "output_type": "stream",
          "text": [
            "/content/drive/My Drive/Colab Notebooks/dw_matrix/matrix_three/dw_road_signs\n"
          ],
          "name": "stdout"
        }
      ]
    },
    {
      "cell_type": "code",
      "metadata": {
        "id": "2c1myLV1xcBp",
        "colab_type": "code",
        "colab": {}
      },
      "source": [
        "train = pd.read_pickle('data/train.p')\n",
        "test = pd.read_pickle('data/test.p')\n",
        "signs = pd.read_csv('data/signnames.csv')"
      ],
      "execution_count": 0,
      "outputs": []
    },
    {
      "cell_type": "code",
      "metadata": {
        "id": "oMXL1TIwxf1K",
        "colab_type": "code",
        "colab": {
          "base_uri": "https://localhost:8080/",
          "height": 34
        },
        "outputId": "2cdf9a78-f258-4a69-8413-507606b574c0"
      },
      "source": [
        "x_train, y_train, x_test, y_test = train['features'], train['labels'], test['features'], test['labels']\n",
        "\n",
        "x_train.shape, y_train.shape, x_test.shape, y_test.shape"
      ],
      "execution_count": 5,
      "outputs": [
        {
          "output_type": "execute_result",
          "data": {
            "text/plain": [
              "((34799, 32, 32, 3), (34799,), (4410, 32, 32, 3), (4410,))"
            ]
          },
          "metadata": {
            "tags": []
          },
          "execution_count": 5
        }
      ]
    },
    {
      "cell_type": "code",
      "metadata": {
        "id": "XMhdwGtWxkT8",
        "colab_type": "code",
        "colab": {}
      },
      "source": [
        "if y_train.ndim == 1: y_train = to_categorical(y_train)\n",
        "if y_test.ndim == 1: y_test = to_categorical(y_test)\n",
        "\n",
        "input_shape = x_train.shape[1:]\n",
        "num_classes = y_train.shape[1]"
      ],
      "execution_count": 0,
      "outputs": []
    },
    {
      "cell_type": "code",
      "metadata": {
        "id": "8_sd40vcxrvZ",
        "colab_type": "code",
        "colab": {}
      },
      "source": [
        "def train_model(model, x_train, y_train, params_fit={}):\n",
        "  model.compile(loss='categorical_crossentropy', optimizer='Adam', metrics=['accuracy'])\n",
        "\n",
        "  log_dir = os.path.join('logs', datetime.datetime.now().strftime(\"%Y%m%d-%H%M%S\"))\n",
        "  tensorboard_callback = tf.keras.callbacks.TensorBoard(log_dir, histogram_freq=1)\n",
        "\n",
        "  model.fit(\n",
        "      x_train, \n",
        "      y_train,\n",
        "      batch_size = params_fit.get('batch_size', 128),\n",
        "      epochs= params_fit.get('epochs', 5),\n",
        "      verbose = params_fit.get('verbose', 1),\n",
        "      validation_data = params_fit.get('validation_data', (x_train, y_train)),\n",
        "      callbacks = [tensorboard_callback]\n",
        "      )\n",
        "  \n",
        "  return model\n",
        "\n",
        "def predict(model_trained, x_test, y_test, scoring=accuracy_score):\n",
        "\n",
        "  y_test_norm = np.argmax(y_test, axis =1)\n",
        "\n",
        "  y_pred_prob = model_trained.predict(x_test)\n",
        "  y_pred = np.argmax(y_pred_prob, axis = 1)\n",
        "  return scoring(y_test_norm, y_pred)"
      ],
      "execution_count": 0,
      "outputs": []
    },
    {
      "cell_type": "code",
      "metadata": {
        "id": "pOvCYdlFxzCp",
        "colab_type": "code",
        "colab": {}
      },
      "source": [
        "def get_cnn_model_v5(input_shape, num_classes):\n",
        "  return Sequential([\n",
        "                    Conv2D(filters=32, kernel_size=(3,3), activation='relu', input_shape= input_shape ),\n",
        "                    Conv2D(filters=32, kernel_size=(3,3), activation='relu', padding='same'),\n",
        "                    MaxPool2D(),\n",
        "                    Dropout(0.3),\n",
        "\n",
        "                    Conv2D(filters=64, kernel_size=(3,3), activation='relu', padding='same'),\n",
        "                    Conv2D(filters=64, kernel_size=(3,3), activation='relu'),\n",
        "                    MaxPool2D(),\n",
        "                    Dropout(0.3),      \n",
        "\n",
        "                    Conv2D(filters=64, kernel_size=(3,3), activation='relu', padding='same'),\n",
        "                    Conv2D(filters=64, kernel_size=(3,3), activation='relu'),\n",
        "                    MaxPool2D(),\n",
        "                    Dropout(0.3),                \n",
        "\n",
        "                    Flatten(),\n",
        "\n",
        "                    Dense(1024, activation='relu'),\n",
        "                    Dropout(0.3),\n",
        "\n",
        "                    Dense(1024, activation='relu'),\n",
        "                    Dropout(0.3),\n",
        "\n",
        "                    Dense(num_classes, activation='softmax')\n",
        "\n",
        "                    ])"
      ],
      "execution_count": 0,
      "outputs": []
    },
    {
      "cell_type": "code",
      "metadata": {
        "id": "X7Wr2rEgyDSK",
        "colab_type": "code",
        "colab": {
          "base_uri": "https://localhost:8080/",
          "height": 202
        },
        "outputId": "4d971c21-ec44-4d10-b481-533a4f979d07"
      },
      "source": [
        "def train_and_predict(model):\n",
        "  model_trained = train_model(model, x_train, y_train)\n",
        "  return predict(model_trained, x_test, y_test)\n",
        "\n",
        "train_and_predict(get_cnn_model_v5(input_shape, num_classes))"
      ],
      "execution_count": 10,
      "outputs": [
        {
          "output_type": "stream",
          "text": [
            "Epoch 1/5\n",
            "272/272 [==============================] - 5s 19ms/step - loss: 2.5760 - accuracy: 0.3012 - val_loss: 1.0317 - val_accuracy: 0.6946\n",
            "Epoch 2/5\n",
            "272/272 [==============================] - 5s 17ms/step - loss: 0.9636 - accuracy: 0.6935 - val_loss: 0.3002 - val_accuracy: 0.9014\n",
            "Epoch 3/5\n",
            "272/272 [==============================] - 5s 17ms/step - loss: 0.4705 - accuracy: 0.8514 - val_loss: 0.1303 - val_accuracy: 0.9607\n",
            "Epoch 4/5\n",
            "272/272 [==============================] - 5s 17ms/step - loss: 0.3187 - accuracy: 0.9003 - val_loss: 0.0646 - val_accuracy: 0.9797\n",
            "Epoch 5/5\n",
            "272/272 [==============================] - 5s 18ms/step - loss: 0.2401 - accuracy: 0.9271 - val_loss: 0.0661 - val_accuracy: 0.9805\n"
          ],
          "name": "stdout"
        },
        {
          "output_type": "execute_result",
          "data": {
            "text/plain": [
              "0.9448979591836735"
            ]
          },
          "metadata": {
            "tags": []
          },
          "execution_count": 10
        }
      ]
    },
    {
      "cell_type": "code",
      "metadata": {
        "id": "mBKzsX9H1Cg-",
        "colab_type": "code",
        "colab": {
          "base_uri": "https://localhost:8080/",
          "height": 34
        },
        "outputId": "c0797ebe-ad27-4c51-9905-fb4aae186ecb"
      },
      "source": [
        "def get_model(params):\n",
        "  return Sequential([\n",
        "                    Conv2D(filters=32, kernel_size=(3,3), activation='relu', input_shape= input_shape ),\n",
        "                    Conv2D(filters=32, kernel_size=(3,3), activation='relu', padding='same'),\n",
        "                    MaxPool2D(),\n",
        "                    Dropout(params['dropout_cnn_block_one']),\n",
        "\n",
        "                    Conv2D(filters=64, kernel_size=(3,3), activation='relu', padding='same'),\n",
        "                    Conv2D(filters=64, kernel_size=(3,3), activation='relu'),\n",
        "                    MaxPool2D(),\n",
        "                    Dropout(params['dropout_cnn_block_two']),      \n",
        "\n",
        "                    Conv2D(filters=128, kernel_size=(3,3), activation='relu', padding='same'),\n",
        "                    Conv2D(filters=128, kernel_size=(3,3), activation='relu'),\n",
        "                    MaxPool2D(),\n",
        "                    Dropout(params['dropout_cnn_block_three']),                \n",
        "\n",
        "                    Flatten(),\n",
        "\n",
        "                    Dense(1024, activation='relu'),\n",
        "                    Dropout(params['dropout_dense_block_one']),\n",
        "\n",
        "                    Dense(1024, activation='relu'),\n",
        "                    Dropout(params['dropout_dense_block_two']),\n",
        "\n",
        "                    Dense(num_classes, activation='softmax')\n",
        "\n",
        "                    ])"
      ],
      "execution_count": 20,
      "outputs": [
        {
          "output_type": "stream",
          "text": [
            "ERROR! Session/line number was not unique in database. History logging moved to new session 59\n"
          ],
          "name": "stdout"
        }
      ]
    },
    {
      "cell_type": "code",
      "metadata": {
        "id": "3qMh3LcryLo6",
        "colab_type": "code",
        "colab": {}
      },
      "source": [
        "def func_obj(params):\n",
        "  model = get_model(params)\n",
        "  model.compile(loss='categorical_crossentropy', optimizer='Adam', metrics=['accuracy'])\n",
        "\n",
        "  log_dir = os.path.join('logs', datetime.datetime.now().strftime(\"%Y%m%d-%H%M%S\"))\n",
        "  tensorboard_callback = tf.keras.callbacks.TensorBoard(log_dir, histogram_freq=1)\n",
        "\n",
        "  model.fit(\n",
        "      x_train, \n",
        "      y_train,\n",
        "      batch_size = int(params.get('batch_size', 128)),\n",
        "      epochs= 5,\n",
        "      verbose = 0\n",
        "      )\n",
        "  \n",
        "  score = model.evaluate(x_test, y_test, verbose =0)\n",
        "  accuracy = score[1]\n",
        "  print(params, 'accuracy={}'.format(accuracy))\n",
        "  \n",
        "  return {'loss': -accuracy, 'status': STATUS_OK, 'model': model}"
      ],
      "execution_count": 0,
      "outputs": []
    },
    {
      "cell_type": "code",
      "metadata": {
        "id": "pTMn5wZBziDv",
        "colab_type": "code",
        "colab": {
          "base_uri": "https://localhost:8080/",
          "height": 894
        },
        "outputId": "8f883557-4108-4599-ee64-f1a791d2a19b"
      },
      "source": [
        "space = {\n",
        "    'batch_size' : hp.quniform('batch_size', 100, 200, 10),\n",
        "    'dropout_cnn_block_one': hp.uniform('dropout_cnn_block_one', 0.3,0.5),\n",
        "    'dropout_cnn_block_two': hp.uniform('dropout_cnn_block_two', 0.3,0.5),\n",
        "    'dropout_cnn_block_three': hp.uniform('dropout_cnn_block_three', 0.3,0.5),    \n",
        "    \n",
        "    'dropout_dense_block_one': hp.uniform('dropout_dense_block_one', 0.3,0.7),\n",
        "    'dropout_dense_block_two': hp.uniform('dropout_dense_block_two', 0.3,0.7)\n",
        "\n",
        "}\n",
        "\n",
        "best = fmin(\n",
        "    func_obj,\n",
        "    space,\n",
        "    tpe.suggest,\n",
        "    25,\n",
        "    Trials()\n",
        ")"
      ],
      "execution_count": 30,
      "outputs": [
        {
          "output_type": "stream",
          "text": [
            "{'batch_size': 160.0, 'dropout_cnn_block_one': 0.4092578061434435, 'dropout_cnn_block_three': 0.471545826236927, 'dropout_cnn_block_two': 0.36653884963619193, 'dropout_dense_block_one': 0.3232028556260617, 'dropout_dense_block_two': 0.31364313922019244}\n",
            "accuracy=0.9299319982528687\n",
            "{'batch_size': 200.0, 'dropout_cnn_block_one': 0.32563850096308805, 'dropout_cnn_block_three': 0.3226934304209245, 'dropout_cnn_block_two': 0.4441498963396938, 'dropout_dense_block_one': 0.41506932756046555, 'dropout_dense_block_two': 0.6559464825213805}\n",
            "accuracy=0.9607709646224976\n",
            "{'batch_size': 100.0, 'dropout_cnn_block_one': 0.48254097442606386, 'dropout_cnn_block_three': 0.37290540771835506, 'dropout_cnn_block_two': 0.39815313421153664, 'dropout_dense_block_one': 0.6678885600731449, 'dropout_dense_block_two': 0.5778436298497875}\n",
            "accuracy=0.9181405901908875\n",
            "{'batch_size': 130.0, 'dropout_cnn_block_one': 0.4491255867554854, 'dropout_cnn_block_three': 0.3363874024607424, 'dropout_cnn_block_two': 0.38631095630375456, 'dropout_dense_block_one': 0.553169488200278, 'dropout_dense_block_two': 0.3344499109385161}\n",
            "accuracy=0.9274376630783081\n",
            "{'batch_size': 120.0, 'dropout_cnn_block_one': 0.31861369361143, 'dropout_cnn_block_three': 0.49109934851089115, 'dropout_cnn_block_two': 0.3955419383695326, 'dropout_dense_block_one': 0.6909831132458577, 'dropout_dense_block_two': 0.45354115862433375}\n",
            "accuracy=0.9070294499397278\n",
            "{'batch_size': 180.0, 'dropout_cnn_block_one': 0.34089862490217815, 'dropout_cnn_block_three': 0.31432468874109615, 'dropout_cnn_block_two': 0.48725176645968, 'dropout_dense_block_one': 0.3491839161113054, 'dropout_dense_block_two': 0.334884400060536}\n",
            "accuracy=0.9392290115356445\n",
            "{'batch_size': 180.0, 'dropout_cnn_block_one': 0.49633934160838367, 'dropout_cnn_block_three': 0.4334161428937033, 'dropout_cnn_block_two': 0.4278709110153685, 'dropout_dense_block_one': 0.3647276000977198, 'dropout_dense_block_two': 0.6059979527927046}\n",
            "accuracy=0.8848072290420532\n",
            "{'batch_size': 170.0, 'dropout_cnn_block_one': 0.436615383047006, 'dropout_cnn_block_three': 0.4526402556542152, 'dropout_cnn_block_two': 0.49577396043474425, 'dropout_dense_block_one': 0.38869331601007495, 'dropout_dense_block_two': 0.5868540167543936}\n",
            "accuracy=0.8736961483955383\n",
            "{'batch_size': 190.0, 'dropout_cnn_block_one': 0.3776359914147607, 'dropout_cnn_block_three': 0.34717533548068913, 'dropout_cnn_block_two': 0.3466554862558776, 'dropout_dense_block_one': 0.621458007142345, 'dropout_dense_block_two': 0.4850721397212625}\n",
            "accuracy=0.9319728016853333\n",
            "{'batch_size': 130.0, 'dropout_cnn_block_one': 0.35331463317489237, 'dropout_cnn_block_three': 0.31606952439924985, 'dropout_cnn_block_two': 0.47163995462575053, 'dropout_dense_block_one': 0.6036039379364715, 'dropout_dense_block_two': 0.5171693481537205}\n",
            "accuracy=0.89682537317276\n",
            "{'batch_size': 140.0, 'dropout_cnn_block_one': 0.3079019173313005, 'dropout_cnn_block_three': 0.4314920997777627, 'dropout_cnn_block_two': 0.3502205202359664, 'dropout_dense_block_one': 0.632983658156165, 'dropout_dense_block_two': 0.48172572163542027}\n",
            "accuracy=0.9501133561134338\n",
            "{'batch_size': 120.0, 'dropout_cnn_block_one': 0.4007510147890288, 'dropout_cnn_block_three': 0.34162642111503944, 'dropout_cnn_block_two': 0.48584167035048687, 'dropout_dense_block_one': 0.6999173522956241, 'dropout_dense_block_two': 0.650675861027243}\n",
            "accuracy=0.6800453662872314\n",
            "{'batch_size': 190.0, 'dropout_cnn_block_one': 0.3564833146951002, 'dropout_cnn_block_three': 0.4299424019215753, 'dropout_cnn_block_two': 0.43525250863586984, 'dropout_dense_block_one': 0.6712186437897509, 'dropout_dense_block_two': 0.520653442000575}\n",
            "accuracy=0.8755102157592773\n",
            "{'batch_size': 160.0, 'dropout_cnn_block_one': 0.4756505468714435, 'dropout_cnn_block_three': 0.44991351398148016, 'dropout_cnn_block_two': 0.3769960012011357, 'dropout_dense_block_one': 0.30462965943919734, 'dropout_dense_block_two': 0.535976966807693}\n",
            "accuracy=0.942176878452301\n",
            "{'batch_size': 150.0, 'dropout_cnn_block_one': 0.37254507340546955, 'dropout_cnn_block_three': 0.3929557893752473, 'dropout_cnn_block_two': 0.3429387238216585, 'dropout_dense_block_one': 0.38396564362095575, 'dropout_dense_block_two': 0.5314121858707488}\n",
            "accuracy=0.9594104290008545\n",
            "{'batch_size': 160.0, 'dropout_cnn_block_one': 0.43115141273893576, 'dropout_cnn_block_three': 0.34518871036397886, 'dropout_cnn_block_two': 0.3273904042784288, 'dropout_dense_block_one': 0.30890228932914343, 'dropout_dense_block_two': 0.5725006144826434}\n",
            "accuracy=0.9394558072090149\n",
            "{'batch_size': 190.0, 'dropout_cnn_block_one': 0.31844559476532375, 'dropout_cnn_block_three': 0.4599586399454183, 'dropout_cnn_block_two': 0.34198187918714157, 'dropout_dense_block_one': 0.41487801564812243, 'dropout_dense_block_two': 0.6175165108573331}\n",
            "accuracy=0.9498866200447083\n",
            "{'batch_size': 190.0, 'dropout_cnn_block_one': 0.4953620139076441, 'dropout_cnn_block_three': 0.3751752211596245, 'dropout_cnn_block_two': 0.42094864473316823, 'dropout_dense_block_one': 0.4807566387766353, 'dropout_dense_block_two': 0.590224651635759}\n",
            "accuracy=0.8975056409835815\n",
            "{'batch_size': 140.0, 'dropout_cnn_block_one': 0.30790237251451985, 'dropout_cnn_block_three': 0.33122939317797695, 'dropout_cnn_block_two': 0.43334600895403225, 'dropout_dense_block_one': 0.4496313722351068, 'dropout_dense_block_two': 0.5205345647736612}\n",
            "accuracy=0.9575963616371155\n",
            "{'batch_size': 120.0, 'dropout_cnn_block_one': 0.48375919130557105, 'dropout_cnn_block_three': 0.3252761321354491, 'dropout_cnn_block_two': 0.3985387562164533, 'dropout_dense_block_one': 0.671603151376087, 'dropout_dense_block_two': 0.5239115781370793}\n",
            "accuracy=0.9172335863113403\n",
            "{'batch_size': 200.0, 'dropout_cnn_block_one': 0.37844309478341154, 'dropout_cnn_block_three': 0.39571753050269126, 'dropout_cnn_block_two': 0.3045558884869008, 'dropout_dense_block_one': 0.5273007787898515, 'dropout_dense_block_two': 0.69891550062326}\n",
            "accuracy=0.8462585210800171\n",
            "{'batch_size': 100.0, 'dropout_cnn_block_one': 0.33561216738957167, 'dropout_cnn_block_three': 0.4077481093270577, 'dropout_cnn_block_two': 0.4586467571318605, 'dropout_dense_block_one': 0.4253351117017219, 'dropout_dense_block_two': 0.3913725135131203}\n",
            "accuracy=0.9723355770111084\n",
            "{'batch_size': 100.0, 'dropout_cnn_block_one': 0.33514242553717305, 'dropout_cnn_block_three': 0.4163440888177526, 'dropout_cnn_block_two': 0.46077751874525374, 'dropout_dense_block_one': 0.4446995450235421, 'dropout_dense_block_two': 0.4018962189466852}\n",
            "accuracy=0.9405895471572876\n",
            "{'batch_size': 110.0, 'dropout_cnn_block_one': 0.3004187849759573, 'dropout_cnn_block_three': 0.30096966932392577, 'dropout_cnn_block_two': 0.45424083091101636, 'dropout_dense_block_one': 0.48688119777663125, 'dropout_dense_block_two': 0.39709682581941974}\n",
            "accuracy=0.9585034251213074\n",
            "{'batch_size': 110.0, 'dropout_cnn_block_one': 0.33147275048236485, 'dropout_cnn_block_three': 0.36658487719639393, 'dropout_cnn_block_two': 0.448786812564309, 'dropout_dense_block_one': 0.4283180507132008, 'dropout_dense_block_two': 0.40417211226703814}\n",
            "accuracy=0.9628117680549622\n",
            "100%|██████████| 25/25 [06:24<00:00, 15.37s/it, best loss: -0.9723355770111084]\n"
          ],
          "name": "stdout"
        }
      ]
    },
    {
      "cell_type": "code",
      "metadata": {
        "id": "DOnlGKAu0PTO",
        "colab_type": "code",
        "colab": {}
      },
      "source": [
        ""
      ],
      "execution_count": 0,
      "outputs": []
    }
  ]
}